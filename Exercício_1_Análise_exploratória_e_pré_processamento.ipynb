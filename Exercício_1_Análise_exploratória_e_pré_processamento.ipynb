{
  "nbformat": 4,
  "nbformat_minor": 0,
  "metadata": {
    "colab": {
      "name": "Exercício 1 - Análise exploratória e pré-processamento.ipynb",
      "provenance": [],
      "collapsed_sections": [],
      "include_colab_link": true
    },
    "kernelspec": {
      "name": "python3",
      "display_name": "Python 3"
    }
  },
  "cells": [
    {
      "cell_type": "markdown",
      "metadata": {
        "id": "view-in-github",
        "colab_type": "text"
      },
      "source": [
        "<a href=\"https://colab.research.google.com/github/itaborai83/ecd221-ML-exercicio-01/blob/main/Exerci%CC%81cio_1_Ana%CC%81lise_explorato%CC%81ria_e_pre%CC%81_processamento.ipynb\" target=\"_parent\"><img src=\"https://colab.research.google.com/assets/colab-badge.svg\" alt=\"Open In Colab\"/></a>"
      ]
    },
    {
      "cell_type": "markdown",
      "metadata": {
        "id": "JzONFe0W2mHw"
      },
      "source": [
        "# Especialização em Ciência de Dados - PUC-Rio\n",
        "## Machine Learning - Prof. Tatiana Escovedo\n",
        "### Exercício 1: Análise Exploratória e Pré-processamento de Dados\n",
        "\n",
        "teste\n"
      ]
    },
    {
      "cell_type": "markdown",
      "metadata": {
        "id": "NnHlnwLF3jh5"
      },
      "source": [
        "\n",
        "\n",
        "---\n",
        "\n",
        "\n",
        "<b>Alunos: </b>\n",
        "\n",
        "---\n",
        "\n"
      ]
    },
    {
      "cell_type": "markdown",
      "metadata": {
        "id": "oa1y_RrG3C7T"
      },
      "source": [
        "<b>Escolha um dataset simples (preferencialmente do UCI Machine Learning Repository - https://archive.ics.uci.edu/ml/index.php ou do Scikit-Learn) e treine a análise exploratória e o pré-processamento de dados com os comandos aprendidos em aula.</b>"
      ]
    },
    {
      "cell_type": "code",
      "metadata": {
        "id": "rbjlQ2WB3EkA"
      },
      "source": [
        ""
      ],
      "execution_count": null,
      "outputs": []
    },
    {
      "cell_type": "markdown",
      "metadata": {
        "id": "umP9jBPk3Euz"
      },
      "source": [
        "**Agora pesquise outras operações ou comandos (não estudados em sala) e realize outros tipos de técnicas de análise exploratória e pré-processamento de dados.**"
      ]
    },
    {
      "cell_type": "code",
      "metadata": {
        "id": "uTdps4lW3R8n"
      },
      "source": [
        ""
      ],
      "execution_count": null,
      "outputs": []
    },
    {
      "cell_type": "markdown",
      "metadata": {
        "id": "11l-FXsq3SEc"
      },
      "source": [
        "**O que você aprendeu sobre este dataset?**"
      ]
    },
    {
      "cell_type": "markdown",
      "metadata": {
        "id": "vj8B54AG9Kgm"
      },
      "source": [
        ""
      ]
    },
    {
      "cell_type": "markdown",
      "metadata": {
        "id": "cYOJMOFJ9C1Z"
      },
      "source": [
        "**O que você aprendeu sobre as técnicas de análise exploratória e pré-processamento de dados?**"
      ]
    },
    {
      "cell_type": "markdown",
      "metadata": {
        "id": "SaICNZX43cNy"
      },
      "source": [
        ""
      ]
    }
  ]
}