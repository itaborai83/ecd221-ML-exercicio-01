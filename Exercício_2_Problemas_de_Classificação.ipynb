{
  "nbformat": 4,
  "nbformat_minor": 0,
  "metadata": {
    "colab": {
      "name": "Exercício 2 - Problemas de Classificação.ipynb",
      "provenance": [],
      "collapsed_sections": [
        "oc1uPm2TlrI8",
        "UQ6ujo7Blt3T",
        "Yi9ZeS5EpFI7",
        "3baFW0VdqV4B",
        "-umc2b1D_y1r"
      ],
      "include_colab_link": true
    },
    "kernelspec": {
      "name": "python3",
      "display_name": "Python 3"
    }
  },
  "cells": [
    {
      "cell_type": "markdown",
      "metadata": {
        "id": "view-in-github",
        "colab_type": "text"
      },
      "source": [
        "<a href=\"https://colab.research.google.com/github/itaborai83/ecd221-ML-exercicio-01/blob/main/Exerc%C3%ADcio_2_Problemas_de_Classifica%C3%A7%C3%A3o.ipynb\" target=\"_parent\"><img src=\"https://colab.research.google.com/assets/colab-badge.svg\" alt=\"Open In Colab\"/></a>"
      ]
    },
    {
      "cell_type": "markdown",
      "metadata": {
        "id": "JzONFe0W2mHw"
      },
      "source": [
        "# Especialização em Ciência de Dados - PUC-Rio\n",
        "# Machine Learning\n",
        "## Exercício 2: Problemas de Classificação"
      ]
    },
    {
      "cell_type": "markdown",
      "metadata": {
        "id": "NnHlnwLF3jh5"
      },
      "source": [
        "<b>Alunos: </b>\n",
        "\n",
        " - Alexandre Carboni da Silva\n",
        "\n",
        " - Agnello Hupp\n",
        "\n",
        " - Carlos Andrey Gois de Oliveira\n",
        "\n",
        " - Daniel Lemos Itaboraí\n",
        "\n",
        " - Rafaela Schifino Azevedo\n",
        "\n",
        " - Renan Giordano Sfirri\n",
        "\n",
        "\n",
        "\n",
        "---"
      ]
    },
    {
      "cell_type": "markdown",
      "source": [
        "## Definição do Problema\n",
        "\n",
        "\n",
        "https://www.kaggle.com/datasets/adityakadiwal/water-potability\n",
        "---"
      ],
      "metadata": {
        "id": "oc1uPm2TlrI8"
      }
    },
    {
      "cell_type": "markdown",
      "source": [
        "### Contexto: \n",
        "Acesso a agua potavel é essencial para a saude, sendo um direito humano basico e um componente de politica efetiva para proteçao sanitaria. Isso é importante para problemas de desenvolvimento de saude a nivel nacional, regional e local. \n",
        "\n",
        "Em algumas regioes foi provado que o investimento em suprimento de agua e sanitarizacao podem levar enriquecimento e desenvolvimento economico uma vez que a reducao de doenças e efeitos sanitarios adversos superam os custos de intervencao governamental. "
      ],
      "metadata": {
        "id": "UQ6ujo7Blt3T"
      }
    },
    {
      "cell_type": "code",
      "source": [
        "# Imports\n",
        "import pandas as pd\n",
        "import numpy as np\n",
        "import matplotlib.pyplot as plt\n",
        "import random\n",
        "from sklearn.model_selection import train_test_split # para o holdout\n",
        "from sklearn.model_selection import KFold # para a validação cruzada\n",
        "from sklearn.model_selection import StratifiedKFold # para a validação cruzada estratificada\n",
        "from sklearn.model_selection import cross_val_score # para a validação cruzada\n",
        "from sklearn.model_selection import GridSearchCV # para o grid search\n",
        "from sklearn.metrics import classification_report # métricas - relatório de classificação\n",
        "from sklearn.metrics import confusion_matrix # métricas - matriz de confusão\n",
        "from sklearn.metrics import accuracy_score # métricas - acurácia\n",
        "from sklearn.preprocessing import StandardScaler # para padronização\n",
        "from sklearn.preprocessing import MinMaxScaler # para normalização\n",
        "from sklearn.tree import DecisionTreeClassifier # para Árvore de Classificação\n",
        "from sklearn.neighbors import KNeighborsClassifier # para KNN\n",
        "from sklearn.naive_bayes import GaussianNB # para Naive Bayes\n",
        "from sklearn.linear_model import LogisticRegression # para Regressão Logística\n",
        "from sklearn.ensemble import AdaBoostClassifier # para AdaBoost\n",
        "from sklearn.ensemble import RandomForestClassifier # para Random Forest\n",
        "from sklearn.svm import SVC # para SVM\n",
        "from sklearn.pipeline import Pipeline # para o pipeline"
      ],
      "metadata": {
        "id": "o03JSfpgmFN7"
      },
      "execution_count": 87,
      "outputs": []
    },
    {
      "cell_type": "code",
      "source": [
        "# setup ambiente\n",
        "\n",
        "# supressão de warnings\n",
        "import warnings\n",
        "warnings.filterwarnings(\"ignore\")\n",
        "\n",
        "# configura pandas para exibição de apenas duas casas decimais nas variaveis\n",
        "pd.set_option('display.float_format', lambda x: '%0.2f' % x)"
      ],
      "metadata": {
        "id": "84n20Yk1mLCq"
      },
      "execution_count": 19,
      "outputs": []
    },
    {
      "cell_type": "code",
      "source": [
        "# constantes\n",
        "DATA_URL          = \"https://raw.githubusercontent.com/itaborai83/ecd221-ML-exercicio-02/main/water_potability_exercicio_01.csv?random=\" + str(random.randint(0, 999999999))\n",
        "FIELD_SEPARATOR   = \",\"\n",
        "COLUMN_NAMES      = [ \n",
        "    'hardness*sulfate',\n",
        "    'hardness^2',\n",
        "    'ph*chloramines',\n",
        "    'ph*hardness',\n",
        "    'ph*solids',\n",
        "    'ph*sulfate',\n",
        "    'ph^2',\n",
        "    'solids*chloramines',\n",
        "    'solids*sulfate',\n",
        "    'sulfate^2',\n",
        "    'potability' \n",
        "]\n",
        "RANDOM_SEED       = 7\n",
        "TEST_PERCENTAGE   = 0.2\n",
        "K_FOLDS           = 10\n",
        "SCORING_METHOD    = \"accuracy\"\n"
      ],
      "metadata": {
        "id": "4LE8cNhimOrb"
      },
      "execution_count": 77,
      "outputs": []
    },
    {
      "cell_type": "code",
      "source": [
        "# Carga do dataset\n",
        "water_df = pd.read_csv(DATA_URL, names=COLUMN_NAMES, sep=FIELD_SEPARATOR, skiprows=1) # Carga do Dataset\n",
        "water_df.info()\n"
      ],
      "metadata": {
        "id": "G2a-iGcumv80",
        "colab": {
          "base_uri": "https://localhost:8080/"
        },
        "outputId": "46aa2eeb-8ccf-4e54-f6d1-3676a0bb4a77"
      },
      "execution_count": 78,
      "outputs": [
        {
          "output_type": "stream",
          "name": "stdout",
          "text": [
            "<class 'pandas.core.frame.DataFrame'>\n",
            "RangeIndex: 3276 entries, 0 to 3275\n",
            "Data columns (total 11 columns):\n",
            " #   Column              Non-Null Count  Dtype  \n",
            "---  ------              --------------  -----  \n",
            " 0   hardness*sulfate    3276 non-null   float64\n",
            " 1   hardness^2          3276 non-null   float64\n",
            " 2   ph*chloramines      3276 non-null   float64\n",
            " 3   ph*hardness         3276 non-null   float64\n",
            " 4   ph*solids           3276 non-null   float64\n",
            " 5   ph*sulfate          3276 non-null   float64\n",
            " 6   ph^2                3276 non-null   float64\n",
            " 7   solids*chloramines  3276 non-null   float64\n",
            " 8   solids*sulfate      3276 non-null   float64\n",
            " 9   sulfate^2           3276 non-null   float64\n",
            " 10  potability          3276 non-null   int64  \n",
            "dtypes: float64(10), int64(1)\n",
            "memory usage: 281.7 KB\n"
          ]
        }
      ]
    },
    {
      "cell_type": "markdown",
      "source": [
        "## Particionamento em conjuntos de treino e teste (holdout)\n",
        "\n",
        "https://scikit-learn.org/stable/modules/generated/sklearn.model_selection.train_test_split.html"
      ],
      "metadata": {
        "id": "Yi9ZeS5EpFI7"
      }
    },
    {
      "cell_type": "code",
      "source": [
        "# Separação em bases de treino e teste\n",
        "all_except_target = water_df.columns.difference([\"potability\"])\n",
        "X_df = water_df[ all_except_target ] \n",
        "y_df = water_df[ [\"potability\"] ] \n",
        "X_train, X_test, y_train, y_test = train_test_split(\n",
        "    X_df, \n",
        "    y_df, \n",
        "    test_size     = TEST_PERCENTAGE, \n",
        "    random_state  = RANDOM_SEED,\n",
        "    shuffle       = True,\n",
        "    stratify      = y_df\n",
        "  )\n",
        "\n",
        "X = X_df.to_numpy()\n",
        "y = y_df.to_numpy()\n",
        "\n",
        "# exibe as dimensões do dataset particionado\n",
        "print(f\"X_train : {X_train.shape}\")\n",
        "print(f\"X_test  : {X_test.shape}\")\n",
        "print(f\"y_train : {y_train.shape}\")\n",
        "print(f\"y_test  : {y_test.shape}\")"
      ],
      "metadata": {
        "colab": {
          "base_uri": "https://localhost:8080/"
        },
        "id": "hIgcip5anyuI",
        "outputId": "f77fee3d-ec79-424b-94d1-77f13f4b8d65"
      },
      "execution_count": 99,
      "outputs": [
        {
          "output_type": "stream",
          "name": "stdout",
          "text": [
            "X_train : (2620, 10)\n",
            "X_test  : (656, 10)\n",
            "y_train : (2620, 1)\n",
            "y_test  : (656, 1)\n"
          ]
        }
      ]
    },
    {
      "cell_type": "markdown",
      "source": [
        "## Validação Cruzada e métrica de avaliação\n",
        "\n",
        "* Métricas de avaliação: http://scikit-learn.org/stable/modules/model_evaluation.html\n",
        "* Validação Cruzada: https://scikit-learn.org/stable/modules/generated/sklearn.model_selection.cross_val_score.html"
      ],
      "metadata": {
        "id": "3baFW0VdqV4B"
      }
    },
    {
      "cell_type": "code",
      "source": [
        "# definindo como será a validação cruzada\n",
        "kfold = StratifiedKFold(n_splits=K_FOLDS, shuffle=True, random_state=RANDOM_SEED) # com estratificação"
      ],
      "metadata": {
        "id": "JEnef1yaqdNA"
      },
      "execution_count": 81,
      "outputs": []
    },
    {
      "cell_type": "code",
      "source": [
        "# criação do pipeline\n",
        "np.random.seed(RANDOM_SEED)\n",
        "\n",
        "# dicionário para armazenar os pipelines\n",
        "pipelines = {}\n",
        "\n",
        "# regressão logísitica com dados brutos\n",
        "pipelines['LR-RAW']   = Pipeline([  ('LR',  LogisticRegression(max_iter=200))                                 ])\n",
        "# K-nearest neighbors com dados brutos\n",
        "pipelines['KNN-RAW']  = Pipeline([  ('KNN', KNeighborsClassifier())                                           ])\n",
        "# Árovre de decisão com dados brutos\n",
        "pipelines['CART-RAW'] = Pipeline([  ('CART', DecisionTreeClassifier())                                        ])\n",
        "# Naive Bayes Gaussiano com dados brutos\n",
        "pipelines['NB-RAW']   = Pipeline([  ('NB', GaussianNB())                                                      ])\n",
        "# SVM com dados brutos\n",
        "pipelines['SVM-RAW']  = Pipeline([  ('SVM', SVC())                                                            ])\n",
        "# AdaBoost com dados brutos\n",
        "pipelines['ADA-RAW']  = Pipeline([  ('ADA', AdaBoostClassifier())                                             ])\n",
        "# RandomForest com dados brutos\n",
        "pipelines['FRST-RAW']  = Pipeline([  ('FRST', RandomForestClassifier())                                       ])\n",
        "\n",
        "# regressão logísitica com dados normalizados\n",
        "pipelines['LR-NRM']   = Pipeline([  ('NRM', MinMaxScaler()), ('LR',  LogisticRegression(max_iter=200))        ])\n",
        "# K-nearest neighbors com dados normalizados\n",
        "pipelines['KNN-NRM']  = Pipeline([  ('NRM', MinMaxScaler()), ('KNN', KNeighborsClassifier())                  ])\n",
        "# Árovre de decisão com dados normalizados\n",
        "pipelines['CART-NRM'] = Pipeline([  ('NRM', MinMaxScaler()), ('CART', DecisionTreeClassifier())               ])\n",
        "# Naive Bayes Gaussiano com dados normalizados\n",
        "pipelines['NB-NRM']   = Pipeline([  ('NRM', MinMaxScaler()), ('NB', GaussianNB())                             ])\n",
        "# SVM com dados normalizados\n",
        "pipelines['SVM-NRM']  = Pipeline([  ('NRM', MinMaxScaler()), ('SVM', SVC())                                   ])\n",
        "# AdaBoost com dados normalizados\n",
        "pipelines['ADA-NRM']  = Pipeline([  ('NRM', MinMaxScaler()), ('ADA', AdaBoostClassifier())                    ])\n",
        "# RandomForest com dados normalizados\n",
        "pipelines['FRST-NRM'] = Pipeline([  ('NRM', MinMaxScaler()), ('FRST', RandomForestClassifier())               ])\n",
        "\n",
        "# regressão logísitica com dados padronizados\n",
        "pipelines['LR-STD']   = Pipeline([  ('STD', StandardScaler()), ('LR',  LogisticRegression(max_iter=200))      ])\n",
        "# K-nearest neighbors com dados padronizados\n",
        "pipelines['KNN-STD']  = Pipeline([  ('STD', StandardScaler()), ('KNN', KNeighborsClassifier())                ])\n",
        "# Árovre de decisão com dados padronizados\n",
        "pipelines['CART-STD'] = Pipeline([  ('STD', StandardScaler()), ('CART', DecisionTreeClassifier())             ])\n",
        "# Naive Bayes Gaussiano com dados padronizados\n",
        "pipelines['NB-STD']   = Pipeline([  ('STD', StandardScaler()), ('NB', GaussianNB())                           ])\n",
        "# SVM com dados padronizados\n",
        "pipelines['SVM-STD']  = Pipeline([  ('STD', StandardScaler()), ('SVM', SVC())                                 ])\n",
        "# AdaBoost com dados padronizados\n",
        "pipelines['ADA-STD']  = Pipeline([  ('STD', StandardScaler()), ('ADA', AdaBoostClassifier())                  ])\n",
        "# RandomForest com dados padronizados\n",
        "pipelines['FRST-STD'] = Pipeline([  ('STD', StandardScaler()), ('FRST', RandomForestClassifier())               ])\n",
        "\n",
        "# lista para armazenar os resultados das validações cruzadas\n",
        "results = {}\n",
        "\n",
        "# Aplicação dos pipelines\n",
        "for name, model in pipelines.items():\n",
        "    cv_results = cross_val_score(\n",
        "        model,\n",
        "        X_train, \n",
        "        y_train, \n",
        "        cv=kfold, \n",
        "        scoring=SCORING_METHOD\n",
        "    )\n",
        "    results[name] = cv_results\n",
        "    mean = cv_results.mean()\n",
        "    stdev = cv_results.std()\n",
        "    print(f\"{name}: mean={mean}, stdev={stdev}\")\n",
        "\n",
        "# ordena os valores pela acurácia média\n",
        "sort_function = lambda key_value: np.mean(key_value[1])\n",
        "sorted_results_list = sorted(results.items(), key=sort_function)\n",
        "sorted_results = dict(sorted_results_list)\n",
        "\n",
        "# boxplot de comparação dos algoritmos\n",
        "fig = plt.figure(figsize=(15,10)) \n",
        "fig.suptitle('Comparação da Acurácia dos Algoritmos') \n",
        "ax = fig.add_subplot(111) # necessário para aparecer as legendas\n",
        "plt.boxplot(sorted_results.values(), vert=False, meanline=True, showmeans=True) \n",
        "ax.set_yticklabels(sorted_results.keys()) \n",
        "plt.show()\n",
        "\n"
      ],
      "metadata": {
        "colab": {
          "base_uri": "https://localhost:8080/",
          "height": 1000
        },
        "id": "7sYo7xkXrvfQ",
        "outputId": "dafb0356-faba-4c1b-c3bd-15d39f1e7768"
      },
      "execution_count": 89,
      "outputs": [
        {
          "output_type": "stream",
          "name": "stdout",
          "text": [
            "LR-RAW: mean=0.6729007633587786, stdev=0.014787305822756114\n",
            "KNN-RAW: mean=0.6564885496183205, stdev=0.022386073738343785\n",
            "CART-RAW: mean=0.748091603053435, stdev=0.016282999242520264\n",
            "NB-RAW: mean=0.6229007633587786, stdev=0.016619496990135294\n",
            "SVM-RAW: mean=0.6778625954198473, stdev=0.016914900615389562\n",
            "ADA-RAW: mean=0.7820610687022901, stdev=0.01769362898702177\n",
            "FRST-RAW: mean=0.7988549618320612, stdev=0.027419885581163074\n",
            "LR-NRM: mean=0.6534351145038169, stdev=0.018915285028036438\n",
            "KNN-NRM: mean=0.6396946564885496, stdev=0.03152958233292119\n",
            "CART-NRM: mean=0.7461832061068703, stdev=0.022916661148516163\n",
            "NB-NRM: mean=0.6229007633587786, stdev=0.016619496990135294\n",
            "SVM-NRM: mean=0.6534351145038169, stdev=0.01635441624857141\n",
            "ADA-NRM: mean=0.7820610687022901, stdev=0.020229007633587776\n",
            "FRST-NRM: mean=0.7900763358778626, stdev=0.029017676043890408\n",
            "LR-STD: mean=0.6729007633587786, stdev=0.014787305822756114\n",
            "KNN-STD: mean=0.6446564885496183, stdev=0.027334746976784556\n",
            "CART-STD: mean=0.748091603053435, stdev=0.022837061529239058\n",
            "NB-STD: mean=0.6229007633587786, stdev=0.016619496990135294\n",
            "SVM-STD: mean=0.6774809160305344, stdev=0.019254959168899913\n",
            "ADA-STD: mean=0.7820610687022901, stdev=0.01769362898702177\n",
            "FRST-STD: mean=0.8011450381679388, stdev=0.035249078334820966\n"
          ]
        },
        {
          "output_type": "display_data",
          "data": {
            "text/plain": [
              "<Figure size 1080x720 with 1 Axes>"
            ],
            "image/png": "[encoded data removed]"
          },
          "metadata": {}
        }
      ]
    },
    {
      "cell_type": "markdown",
      "source": [
        "## Otimizando os Hiperparâmetros com GridSearch\n",
        "\n",
        "* GridSearch: https://scikit-learn.org/stable/modules/generated/sklearn.model_selection.GridSearchCV.html"
      ],
      "metadata": {
        "id": "-umc2b1D_y1r"
      }
    },
    {
      "cell_type": "code",
      "source": [
        "# Tuning do RandomForest - dados brutos\n",
        "# hiperparâmetros que serão avaliados - 96 execuções ao todo\n",
        "param_grid = {\n",
        "    \"FRST__n_estimators\"      : [100, 150, 200],\n",
        "    \"FRST__criterion\"         : [\"gini\", \"entropy\"],\n",
        "    \"FRST__min_samples_split\" : [4, 6, 8],\n",
        "    \"FRST__bootstrap\"         : [True, False]\n",
        "}\n",
        "pipeline = Pipeline([\n",
        "      (\"STD\", StandardScaler()), \n",
        "      (\"FRST\", RandomForestClassifier()),\n",
        "])\n",
        "\n",
        "# busca exaustiva de hiperparâmetros com GridSearchCV\n",
        "grid = GridSearchCV(estimator=pipeline, param_grid=param_grid, scoring=SCORING_METHOD, cv=kfold)\n",
        "grid_result = grid.fit(X_train, y_train) # dados brutos\n",
        "\n",
        "# imprime o melhor resultado\n",
        "print(\"Melhor: %f usando %s\" % (grid_result.best_score_, grid_result.best_params_))"
      ],
      "metadata": {
        "colab": {
          "base_uri": "https://localhost:8080/"
        },
        "id": "6X4TV0qz_zXb",
        "outputId": "c927acdb-6070-4f2a-dab3-3e8e55f6df56"
      },
      "execution_count": 97,
      "outputs": [
        {
          "output_type": "stream",
          "name": "stdout",
          "text": [
            "Melhor: 0.801527 usando {'FRST__bootstrap': True, 'FRST__criterion': 'entropy', 'FRST__min_samples_split': 6, 'FRST__n_estimators': 200}\n"
          ]
        }
      ]
    },
    {
      "cell_type": "markdown",
      "source": [
        "## Melhor Acurácia Encontrada ***0.801527***\n",
        "\n",
        " - **n_estimators**: 200\n",
        "\n",
        " - **bootstrap**: True\n",
        "\n",
        " - **criterion**: entropy \n",
        "\n",
        " - **min_samples_split**: 6\n"
      ],
      "metadata": {
        "id": "F8i-u0PZGblL"
      }
    },
    {
      "cell_type": "code",
      "source": [
        "# imprime todos os resultados\n",
        "means = grid_result.cv_results_['mean_test_score']\n",
        "stds = grid_result.cv_results_['std_test_score']\n",
        "params = grid_result.cv_results_['params']\n",
        "sorted_results = []\n",
        "for mean, stdev, param in zip(means, stds, params):\n",
        "    sorted_results.append((mean, stdev, param))\n",
        "\n",
        "# ordena os resultados pela acurácia decrescente\n",
        "sorted_results.sort(reverse=True)\n",
        "\n",
        "for mean, stdev, param in sorted_results:    \n",
        "    print(\"%f (%f): %s\" % (mean, stdev, param))"
      ],
      "metadata": {
        "colab": {
          "base_uri": "https://localhost:8080/"
        },
        "id": "gb692dUmFd-X",
        "outputId": "3738b104-205a-4ded-fccb-b012ffdcb026"
      },
      "execution_count": 102,
      "outputs": [
        {
          "output_type": "stream",
          "name": "stdout",
          "text": [
            "0.801527 (0.024558): {'FRST__bootstrap': True, 'FRST__criterion': 'entropy', 'FRST__min_samples_split': 6, 'FRST__n_estimators': 200}\n",
            "0.801145 (0.028483): {'FRST__bootstrap': True, 'FRST__criterion': 'gini', 'FRST__min_samples_split': 8, 'FRST__n_estimators': 200}\n",
            "0.800382 (0.030822): {'FRST__bootstrap': True, 'FRST__criterion': 'entropy', 'FRST__min_samples_split': 4, 'FRST__n_estimators': 150}\n",
            "0.800000 (0.028110): {'FRST__bootstrap': True, 'FRST__criterion': 'entropy', 'FRST__min_samples_split': 6, 'FRST__n_estimators': 100}\n",
            "0.799618 (0.024094): {'FRST__bootstrap': True, 'FRST__criterion': 'gini', 'FRST__min_samples_split': 8, 'FRST__n_estimators': 150}\n",
            "0.799237 (0.028927): {'FRST__bootstrap': True, 'FRST__criterion': 'entropy', 'FRST__min_samples_split': 8, 'FRST__n_estimators': 100}\n",
            "0.798855 (0.028050): {'FRST__bootstrap': True, 'FRST__criterion': 'gini', 'FRST__min_samples_split': 6, 'FRST__n_estimators': 150}\n",
            "0.798855 (0.029959): {'FRST__bootstrap': True, 'FRST__criterion': 'gini', 'FRST__min_samples_split': 6, 'FRST__n_estimators': 200}\n",
            "0.798855 (0.026775): {'FRST__bootstrap': True, 'FRST__criterion': 'entropy', 'FRST__min_samples_split': 8, 'FRST__n_estimators': 150}\n",
            "0.798092 (0.029734): {'FRST__bootstrap': True, 'FRST__criterion': 'entropy', 'FRST__min_samples_split': 4, 'FRST__n_estimators': 200}\n",
            "0.797710 (0.029956): {'FRST__bootstrap': True, 'FRST__criterion': 'gini', 'FRST__min_samples_split': 4, 'FRST__n_estimators': 200}\n",
            "0.797328 (0.023863): {'FRST__bootstrap': True, 'FRST__criterion': 'entropy', 'FRST__min_samples_split': 4, 'FRST__n_estimators': 100}\n",
            "0.796947 (0.028141): {'FRST__bootstrap': True, 'FRST__criterion': 'gini', 'FRST__min_samples_split': 4, 'FRST__n_estimators': 150}\n",
            "0.796565 (0.023469): {'FRST__bootstrap': True, 'FRST__criterion': 'gini', 'FRST__min_samples_split': 4, 'FRST__n_estimators': 100}\n",
            "0.796183 (0.025672): {'FRST__bootstrap': True, 'FRST__criterion': 'gini', 'FRST__min_samples_split': 8, 'FRST__n_estimators': 100}\n",
            "0.796183 (0.025672): {'FRST__bootstrap': False, 'FRST__criterion': 'gini', 'FRST__min_samples_split': 8, 'FRST__n_estimators': 100}\n",
            "0.795420 (0.027745): {'FRST__bootstrap': False, 'FRST__criterion': 'gini', 'FRST__min_samples_split': 6, 'FRST__n_estimators': 200}\n",
            "0.794656 (0.028654): {'FRST__bootstrap': False, 'FRST__criterion': 'gini', 'FRST__min_samples_split': 8, 'FRST__n_estimators': 150}\n",
            "0.793511 (0.029488): {'FRST__bootstrap': False, 'FRST__criterion': 'gini', 'FRST__min_samples_split': 6, 'FRST__n_estimators': 150}\n",
            "0.793511 (0.026468): {'FRST__bootstrap': True, 'FRST__criterion': 'gini', 'FRST__min_samples_split': 6, 'FRST__n_estimators': 100}\n",
            "0.793130 (0.029258): {'FRST__bootstrap': True, 'FRST__criterion': 'entropy', 'FRST__min_samples_split': 6, 'FRST__n_estimators': 150}\n",
            "0.793130 (0.026816): {'FRST__bootstrap': True, 'FRST__criterion': 'entropy', 'FRST__min_samples_split': 8, 'FRST__n_estimators': 200}\n",
            "0.792748 (0.025147): {'FRST__bootstrap': False, 'FRST__criterion': 'entropy', 'FRST__min_samples_split': 8, 'FRST__n_estimators': 200}\n",
            "0.792748 (0.023407): {'FRST__bootstrap': False, 'FRST__criterion': 'gini', 'FRST__min_samples_split': 8, 'FRST__n_estimators': 200}\n",
            "0.791985 (0.030973): {'FRST__bootstrap': False, 'FRST__criterion': 'gini', 'FRST__min_samples_split': 4, 'FRST__n_estimators': 200}\n",
            "0.791603 (0.020568): {'FRST__bootstrap': False, 'FRST__criterion': 'entropy', 'FRST__min_samples_split': 6, 'FRST__n_estimators': 200}\n",
            "0.791221 (0.024442): {'FRST__bootstrap': False, 'FRST__criterion': 'entropy', 'FRST__min_samples_split': 6, 'FRST__n_estimators': 100}\n",
            "0.790458 (0.026578): {'FRST__bootstrap': False, 'FRST__criterion': 'entropy', 'FRST__min_samples_split': 8, 'FRST__n_estimators': 150}\n",
            "0.789695 (0.022738): {'FRST__bootstrap': False, 'FRST__criterion': 'entropy', 'FRST__min_samples_split': 4, 'FRST__n_estimators': 150}\n",
            "0.789313 (0.025819): {'FRST__bootstrap': False, 'FRST__criterion': 'gini', 'FRST__min_samples_split': 6, 'FRST__n_estimators': 100}\n",
            "0.788931 (0.031291): {'FRST__bootstrap': False, 'FRST__criterion': 'entropy', 'FRST__min_samples_split': 6, 'FRST__n_estimators': 150}\n",
            "0.788550 (0.027268): {'FRST__bootstrap': False, 'FRST__criterion': 'gini', 'FRST__min_samples_split': 4, 'FRST__n_estimators': 150}\n",
            "0.788168 (0.025732): {'FRST__bootstrap': False, 'FRST__criterion': 'gini', 'FRST__min_samples_split': 4, 'FRST__n_estimators': 100}\n",
            "0.787786 (0.030923): {'FRST__bootstrap': False, 'FRST__criterion': 'entropy', 'FRST__min_samples_split': 8, 'FRST__n_estimators': 100}\n",
            "0.786641 (0.026578): {'FRST__bootstrap': False, 'FRST__criterion': 'entropy', 'FRST__min_samples_split': 4, 'FRST__n_estimators': 200}\n",
            "0.785496 (0.026100): {'FRST__bootstrap': False, 'FRST__criterion': 'entropy', 'FRST__min_samples_split': 4, 'FRST__n_estimators': 100}\n"
          ]
        }
      ]
    },
    {
      "cell_type": "markdown",
      "source": [
        "## Fazendo as predições"
      ],
      "metadata": {
        "id": "SPBEJfKFFuTa"
      }
    },
    {
      "cell_type": "code",
      "source": [
        "np.random.seed(RANDOM_SEED) # definindo uma seed global \n",
        "\n",
        "# padronização os dados de treino\n",
        "scaler = StandardScaler().fit(X_train) # ajuste da transformação com os dados de treino\n",
        "rescaledX = scaler.transform(X_train) # aplicação da transformação nos dados de treino\n",
        "\n",
        "# padronização os dados de treino - isto aqui seria data leakage\n",
        "# scaler = StandardScaler().fit(X) # ajuste da transformação em todos os dados\n",
        "# rescaledX = scaler.transform(X) # aplicação da transformação em todos os dados\n",
        "\n",
        "# criando um modelo com a melhor configuração até o momento\n",
        "# e treinar este modelo com TODO o conjunto de treino (padronizado)\n",
        "model = RandomForestClassifier(\n",
        "    n_estimators      = 200, \n",
        "    bootstrap         = True, \n",
        "    criterion         = \"entropy\",\n",
        "    min_samples_split = 6\n",
        ")\n",
        "model.fit(rescaledX, y_train)\n",
        "\n",
        "# padronização dos dados de teste, cuidando para não fazer data leakage, ou seja:\n",
        "# usando o scaler que defini com o conjunto de treino, para manter a mesma escala\n",
        "rescaledTestX = scaler.transform(X_test) # aplicação da transformação nos dados de teste\n",
        "\n",
        "# predição\n",
        "predictions = model.predict(rescaledTestX) # repare que para fazer a predição eu só passo o X e não o y\n",
        "\n",
        "# estimando a acurácia no conjunto de teste\n",
        "print(accuracy_score(y_test, predictions))"
      ],
      "metadata": {
        "colab": {
          "base_uri": "https://localhost:8080/"
        },
        "id": "nd9bRB2oH_sk",
        "outputId": "7520eac8-04a5-4646-d18c-c03398aa5bcf"
      },
      "execution_count": 103,
      "outputs": [
        {
          "output_type": "stream",
          "name": "stdout",
          "text": [
            "0.7957317073170732\n"
          ]
        }
      ]
    },
    {
      "cell_type": "code",
      "source": [
        "# exibe a variável target do conjunto de testes e a predição realizada\n",
        "\n",
        "zip_pot_preds = zip(list(y_test['potability']), predictions)\n",
        "for i, (potability, prediction) in enumerate(zip_pot_preds):\n",
        "  if (i + 1) % 20 == 0:\n",
        "    end = '\\n'\n",
        "  else:\n",
        "    end = ' '\n",
        "  tuple_pot_pred = (potability, prediction)\n",
        "  print(tuple_pot_pred, end=end)\n",
        "\n",
        "\n",
        "\n",
        "\n"
      ],
      "metadata": {
        "colab": {
          "base_uri": "https://localhost:8080/"
        },
        "id": "Efm0UIc2KN74",
        "outputId": "5982cb44-12db-4400-80f1-2f0d146e89e0"
      },
      "execution_count": 123,
      "outputs": [
        {
          "output_type": "stream",
          "name": "stdout",
          "text": [
            "(1, 1) (1, 1) (1, 1) (1, 1) (0, 1) (1, 0) (0, 0) (0, 1) (1, 0) (0, 0) (1, 1) (0, 0) (0, 0) (0, 0) (0, 0) (0, 0) (0, 0) (1, 1) (0, 0) (1, 1)\n",
            "(0, 0) (0, 0) (1, 1) (0, 1) (0, 0) (1, 1) (1, 1) (0, 0) (0, 1) (0, 1) (0, 0) (0, 0) (0, 0) (0, 1) (0, 0) (1, 1) (0, 0) (0, 0) (1, 0) (1, 1)\n",
            "(0, 0) (1, 0) (0, 0) (1, 0) (0, 0) (0, 0) (1, 1) (0, 1) (0, 0) (0, 0) (1, 1) (1, 1) (0, 0) (0, 0) (0, 0) (0, 0) (0, 0) (0, 1) (0, 1) (1, 1)\n",
            "(0, 0) (1, 1) (0, 0) (0, 0) (1, 1) (0, 0) (1, 1) (1, 1) (1, 0) (1, 0) (0, 0) (1, 0) (1, 1) (1, 1) (1, 1) (1, 0) (0, 0) (0, 0) (1, 1) (0, 0)\n",
            "(0, 0) (0, 0) (1, 1) (0, 0) (1, 1) (0, 0) (0, 0) (1, 0) (0, 0) (1, 1) (1, 0) (0, 0) (0, 0) (0, 0) (1, 1) (0, 0) (0, 1) (1, 1) (1, 1) (0, 0)\n",
            "(0, 1) (0, 0) (0, 0) (1, 1) (0, 0) (0, 0) (0, 0) (0, 0) (1, 1) (1, 1) (1, 0) (1, 1) (0, 0) (0, 0) (0, 0) (1, 1) (0, 0) (0, 0) (0, 0) (0, 0)\n",
            "(0, 1) (1, 0) (1, 0) (1, 1) (0, 1) (1, 0) (0, 0) (1, 0) (1, 1) (0, 0) (1, 0) (1, 1) (1, 1) (0, 0) (1, 0) (1, 1) (1, 1) (0, 0) (0, 0) (1, 1)\n",
            "(0, 1) (1, 1) (0, 1) (1, 1) (0, 0) (1, 1) (0, 0) (0, 0) (1, 1) (0, 0) (0, 0) (1, 0) (0, 0) (1, 1) (1, 1) (1, 1) (0, 0) (1, 1) (1, 0) (0, 0)\n",
            "(0, 0) (1, 0) (0, 0) (1, 1) (0, 0) (1, 1) (0, 0) (1, 1) (1, 1) (0, 0) (0, 1) (0, 0) (1, 1) (1, 0) (0, 0) (1, 1) (1, 1) (0, 0) (0, 0) (0, 0)\n",
            "(1, 1) (1, 1) (1, 1) (0, 0) (1, 1) (1, 0) (1, 1) (0, 0) (1, 0) (1, 1) (1, 1) (1, 1) (1, 1) (0, 0) (1, 0) (1, 1) (0, 0) (1, 1) (1, 0) (0, 0)\n",
            "(0, 0) (0, 0) (0, 0) (0, 0) (1, 1) (0, 0) (0, 0) (1, 1) (0, 1) (0, 0) (0, 1) (0, 0) (0, 0) (0, 0) (0, 1) (0, 0) (0, 0) (0, 0) (0, 0) (0, 0)\n",
            "(1, 0) (1, 1) (1, 1) (1, 1) (0, 0) (1, 0) (1, 0) (0, 0) (0, 0) (0, 0) (0, 0) (0, 1) (1, 1) (1, 1) (0, 0) (1, 0) (1, 0) (1, 1) (1, 1) (0, 0)\n",
            "(0, 0) (0, 0) (0, 1) (1, 1) (0, 0) (0, 0) (1, 1) (0, 0) (1, 0) (0, 0) (1, 0) (0, 0) (0, 0) (1, 1) (1, 1) (0, 0) (0, 1) (0, 0) (0, 1) (0, 0)\n",
            "(1, 1) (0, 0) (0, 0) (0, 0) (0, 0) (0, 0) (0, 0) (0, 0) (0, 1) (0, 0) (1, 0) (0, 0) (0, 0) (0, 0) (0, 1) (0, 1) (1, 1) (1, 0) (1, 0) (0, 0)\n",
            "(1, 0) (0, 0) (1, 1) (1, 0) (1, 1) (0, 0) (0, 0) (1, 1) (1, 1) (1, 0) (0, 0) (0, 0) (0, 0) (0, 0) (1, 1) (0, 0) (0, 0) (0, 0) (0, 0) (0, 1)\n",
            "(1, 1) (1, 1) (1, 1) (0, 0) (0, 0) (0, 0) (1, 1) (1, 1) (0, 0) (1, 0) (0, 0) (0, 0) (0, 0) (1, 1) (0, 0) (1, 1) (0, 0) (0, 0) (0, 1) (0, 0)\n",
            "(0, 0) (1, 0) (1, 1) (1, 0) (0, 0) (1, 0) (0, 0) (0, 0) (0, 0) (0, 0) (1, 1) (0, 0) (0, 0) (0, 0) (0, 0) (0, 0) (1, 0) (0, 1) (1, 1) (0, 0)\n",
            "(1, 1) (0, 0) (0, 0) (0, 0) (0, 0) (0, 0) (0, 0) (1, 1) (0, 0) (1, 1) (0, 0) (0, 0) (0, 0) (0, 1) (1, 1) (0, 0) (1, 1) (0, 0) (1, 1) (0, 0)\n",
            "(0, 0) (0, 0) (0, 1) (0, 1) (1, 0) (0, 0) (0, 0) (1, 1) (0, 0) (1, 1) (0, 0) (0, 0) (0, 0) (1, 1) (0, 1) (0, 0) (1, 0) (1, 1) (0, 1) (0, 0)\n",
            "(0, 0) (1, 0) (1, 0) (0, 0) (0, 0) (0, 0) (0, 0) (1, 1) (0, 1) (1, 1) (0, 0) (0, 0) (1, 1) (0, 0) (0, 0) (1, 0) (0, 0) (0, 0) (1, 0) (0, 0)\n",
            "(0, 0) (1, 1) (0, 0) (0, 1) (1, 1) (0, 0) (0, 0) (0, 0) (0, 0) (0, 0) (0, 0) (0, 1) (0, 0) (1, 1) (0, 0) (1, 1) (1, 1) (0, 0) (1, 1) (0, 1)\n",
            "(0, 0) (0, 0) (1, 0) (0, 0) (0, 0) (0, 0) (1, 1) (1, 1) (1, 1) (1, 1) (1, 0) (1, 0) (0, 0) (0, 0) (1, 1) (1, 1) (1, 1) (1, 1) (1, 1) (1, 1)\n",
            "(0, 1) (0, 0) (0, 0) (1, 0) (0, 0) (1, 0) (0, 0) (0, 0) (0, 0) (1, 1) (0, 0) (0, 0) (0, 0) (1, 1) (0, 0) (0, 0) (0, 1) (1, 1) (0, 0) (1, 1)\n",
            "(0, 0) (1, 0) (0, 0) (1, 1) (0, 1) (1, 0) (0, 0) (0, 0) (0, 0) (0, 0) (1, 1) (1, 0) (0, 0) (0, 0) (1, 1) (1, 1) (1, 0) (1, 0) (1, 0) (0, 1)\n",
            "(0, 0) (0, 0) (1, 1) (1, 1) (0, 0) (0, 0) (1, 0) (0, 0) (0, 0) (0, 0) (1, 1) (0, 0) (0, 0) (1, 0) (0, 0) (0, 1) (0, 0) (0, 1) (1, 0) (0, 0)\n",
            "(1, 1) (0, 0) (0, 0) (1, 1) (0, 0) (0, 0) (0, 1) (0, 0) (0, 0) (0, 0) (1, 1) (1, 0) (0, 0) (0, 0) (0, 0) (1, 0) (0, 0) (0, 0) (1, 0) (0, 1)\n",
            "(1, 1) (0, 0) (1, 1) (0, 0) (1, 0) (1, 1) (0, 0) (1, 1) (1, 1) (1, 1) (1, 1) (1, 1) (0, 0) (0, 0) (0, 0) (0, 0) (0, 0) (1, 1) (1, 1) (1, 1)\n",
            "(0, 0) (0, 0) (0, 0) (0, 0) (1, 1) (0, 0) (0, 0) (0, 0) (0, 1) (1, 0) (1, 1) (0, 0) (0, 0) (0, 1) (0, 0) (0, 0) (0, 0) (1, 1) (0, 0) (0, 0)\n",
            "(0, 0) (0, 0) (0, 0) (1, 1) (0, 0) (1, 0) (0, 0) (0, 1) (0, 0) (1, 1) (1, 1) (0, 0) (0, 0) (0, 0) (0, 0) (1, 1) (0, 0) (0, 0) (1, 1) (1, 1)\n",
            "(1, 1) (0, 0) (0, 0) (0, 0) (0, 0) (0, 0) (0, 0) (0, 0) (1, 1) (0, 0) (0, 0) (0, 0) (0, 0) (0, 0) (1, 1) (1, 1) (1, 1) (0, 0) (0, 0) (0, 0)\n",
            "(1, 0) (0, 0) (1, 0) (1, 0) (0, 0) (0, 1) (1, 1) (0, 0) (1, 0) (1, 1) (1, 0) (0, 0) (0, 0) (0, 0) (0, 0) (0, 0) (0, 0) (1, 0) (1, 0) (1, 1)\n",
            "(0, 0) (1, 1) (0, 0) (0, 0) (1, 0) (0, 0) (1, 1) (0, 0) (0, 0) (1, 1) (1, 1) (0, 0) (0, 0) (0, 0) (0, 0) (0, 0) (0, 1) (1, 1) (0, 0) (0, 1)\n",
            "(0, 1) (0, 0) (0, 0) (0, 0) (0, 0) (0, 0) (0, 0) (0, 1) (1, 1) (0, 0) (0, 0) (0, 0) (1, 0) (0, 0) (1, 1) (1, 0) "
          ]
        }
      ]
    },
    {
      "cell_type": "markdown",
      "source": [
        "## Preparando o modelo para produção..."
      ],
      "metadata": {
        "id": "AvH5J-RHKys9"
      }
    },
    {
      "cell_type": "code",
      "source": [
        "# Agora tenho que treinar o modelo com todo o X e não apenas com X_train\n",
        "np.random.seed(RANDOM_SEED) # definindo uma seed global \n",
        "\n",
        "# padronização os dados de treino\n",
        "scaler = StandardScaler().fit(X) # ajuste da transformação com todos os dados\n",
        "rescaledX = scaler.transform(X) # aplicação da transformação nos dados\n",
        "\n",
        "# criando um modelo com a melhor configuração até o momento\n",
        "# e treinar este modelo com TODOS os dados (todo o dataset, padronizado)\n",
        "model = RandomForestClassifier(\n",
        "    n_estimators      = 200, \n",
        "    bootstrap         = True, \n",
        "    criterion         = \"entropy\",\n",
        "    min_samples_split = 6\n",
        ")\n",
        "model.fit(rescaledX, y)\n",
        "\n",
        "y_predicted = model.predict(rescaledX) # faz as predições com todo o dataset\n",
        "print(accuracy_score(y, y_predicted)) # acurácia de treino"
      ],
      "metadata": {
        "colab": {
          "base_uri": "https://localhost:8080/"
        },
        "id": "9FsA1_xMK0cx",
        "outputId": "7619c2f3-8128-4b69-bd08-159060d506e0"
      },
      "execution_count": 124,
      "outputs": [
        {
          "output_type": "stream",
          "name": "stdout",
          "text": [
            "0.9984737484737485\n"
          ]
        }
      ]
    },
    {
      "cell_type": "markdown",
      "source": [
        "Imagine que após diversos experimentos verificamos que o melhor modelo até o momento é o SVM com C=0.1, kernel='linear' e dados padronizados. Vamos então treinar um modelo usando TODO o conjunto de treino e testá-lo usando todo o conjunto de teste, que estava separado desde o início do notebook."
      ],
      "metadata": {
        "id": "_Zsju7uSFu-_"
      }
    },
    {
      "cell_type": "markdown",
      "metadata": {
        "id": "umP9jBPk3Euz"
      },
      "source": [
        "**Agora pesquise outras bibliotecas, modelos de classificação ou funcionalidades (não estudados em sala) e aplique-os no problema. Lembre-se que quanto mais você pesquisar e treinar, mais irá aprender.**"
      ]
    },
    {
      "cell_type": "code",
      "metadata": {
        "id": "uTdps4lW3R8n"
      },
      "source": [
        ""
      ],
      "execution_count": null,
      "outputs": []
    },
    {
      "cell_type": "markdown",
      "metadata": {
        "id": "11l-FXsq3SEc"
      },
      "source": [
        "**O que você aprendeu sobre o problema de classificação deste dataset?**"
      ]
    },
    {
      "cell_type": "markdown",
      "metadata": {
        "id": "SaICNZX43cNy"
      },
      "source": [
        ""
      ]
    }
  ]
}